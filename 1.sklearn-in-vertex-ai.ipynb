{
 "cells": [
  {
   "cell_type": "markdown",
   "id": "4825aafa-8383-4b2e-90e5-566e79120f14",
   "metadata": {},
   "source": [
    "# Goal of this notebook\n",
    "* Run end-end training on sklearn \n",
    "* Save model and register on Vertex AI\n",
    "* Make batch predictions with registered model\n",
    "* Make local predictions with registered model\n",
    "\n",
    "**For Documentation Needs**\n",
    "\n",
    "* High level documentation can be found [here](https://cloud.google.com/vertex-ai/docs/predictions/deploy-model-api)\n",
    "* See SDK documentation for end-to-end docs [here](https://cloud.google.com/python/docs/reference/aiplatform/latest/aiplatform)\n",
    "* Also guides on AutoML [here](https://cloud.google.com/automl/docs/reference/rest/v1/projects.locations.models/batchPredict#BatchPredictInputConfig)\n"
   ]
  },
  {
   "cell_type": "code",
   "execution_count": 196,
   "id": "23b0cf48-e53b-4d39-88f7-061f5e97f220",
   "metadata": {},
   "outputs": [],
   "source": [
    "PROJECT_ID = 'YOUR-PROJECT-ID' #SET THIS TO YOUR PROJECT ID\n",
    "BUCKET = \"gs://YOUR-BUCKET\" #BE SURE TO gsutil mb -l <REGION> <LOG_BUCKET> to create the bucket on GCP"
   ]
  },
  {
   "cell_type": "markdown",
   "id": "d442ef80-2259-49e1-b715-14d3dcb59403",
   "metadata": {
    "tags": []
   },
   "source": [
    "### Register the model to Vertex\n",
    "  1. Export model artifact - [Guide on this part here](https://cloud.google.com/vertex-ai/docs/training/exporting-model-artifacts#scikit-learn)\n",
    "  2. Deploy and upload the model using the artifact - [Guide](https://cloud.google.com/vertex-ai/docs/model-registry/import-model)\n",
    "  3. Use the pre-built container guide to find the right container (if using custom containers) - [Guide](https://cloud.google.com/vertex-ai/docs/predictions/pre-built-containers)"
   ]
  },
  {
   "cell_type": "code",
   "execution_count": 197,
   "id": "7feccbb8-4454-4489-9608-c1a096b4d877",
   "metadata": {},
   "outputs": [],
   "source": [
    "import os\n",
    "import pickle\n",
    "\n",
    "from google.cloud import storage\n",
    "from sklearn import datasets\n",
    "from sklearn.ensemble import RandomForestClassifier\n",
    "\n",
    "digits = datasets.load_digits()\n",
    "classifier = RandomForestClassifier()\n",
    "classifier.fit(digits.data, digits.target)\n",
    "\n",
    "artifact_filename = 'digits.pkl'\n",
    "\n",
    "# Save model artifact to local filesystem (doesn't persist)\n",
    "local_path = artifact_filename\n",
    "with open(local_path, 'wb') as model_file:\n",
    "    pickle.dump(classifier, model_file)"
   ]
  },
  {
   "cell_type": "code",
   "execution_count": 198,
   "id": "11fc4ec5-c45a-47f1-beef-850cbbd45511",
   "metadata": {},
   "outputs": [],
   "source": [
    "from google.cloud import aiplatform\n",
    "\n",
    "model = aiplatform.Model.upload_scikit_learn_model_file(\n",
    "        display_name='digits test',\n",
    "        model_file_path=local_path,\n",
    "        description='test for deploying models to vertex',\n",
    "        sync=False, #this will not bind up your notebook instance with the creation operation\n",
    "    ) #note this will automatcially designate the latest sklearn serving container"
   ]
  },
  {
   "cell_type": "code",
   "execution_count": 199,
   "id": "b0309a76-6299-4398-9b6b-6e92aaa808fa",
   "metadata": {},
   "outputs": [
    {
     "data": {
      "text/plain": [
       "<google.cloud.aiplatform.models.Model object at 0x7feba3217390> is waiting for upstream dependencies to complete."
      ]
     },
     "execution_count": 199,
     "metadata": {},
     "output_type": "execute_result"
    },
    {
     "name": "stdout",
     "output_type": "stream",
     "text": [
      "Creating Model\n",
      "Create Model backing LRO: projects/633325234048/locations/us-central1/models/674647140663820288/operations/4328195155866681344\n"
     ]
    }
   ],
   "source": [
    "model"
   ]
  },
  {
   "cell_type": "markdown",
   "id": "e4c20cef-c89e-49bb-b7f3-2cfdc779a4ea",
   "metadata": {
    "tags": []
   },
   "source": [
    "### Now the model is loaded and ready for batch predictions\n",
    "Guide on Python SDK [Here](https://cloud.google.com/vertex-ai/docs/predictions/batch-predictions)\n",
    "\n",
    "When trying to understand what formats work for batch predictions - reference [this](https://cloud.google.com/vertex-ai/docs/predictions/batch-predictions) guide\n",
    "For arrays w/ Sklearn this is best practice\n",
    "[One more guide on autoML here for input format](https://cloud.google.com/automl/docs/reference/rest/v1/projects.locations.models/batchPredict#BatchPredictInputConfig)"
   ]
  },
  {
   "cell_type": "code",
   "execution_count": 200,
   "id": "870fe26c-8a16-4a94-a61e-c11c1df62604",
   "metadata": {},
   "outputs": [
    {
     "name": "stdout",
     "output_type": "stream",
     "text": [
      "Model created. Resource name: projects/633325234048/locations/us-central1/models/674647140663820288\n",
      "To use this Model in another session:\n",
      "model = aiplatform.Model('projects/633325234048/locations/us-central1/models/674647140663820288')\n"
     ]
    }
   ],
   "source": [
    "import tensorflow as tf\n",
    "import json\n",
    "\n",
    "### FORMATTING TO GET ONE LIST OF FEATURES PER LINE PER DOCS\n",
    "gcs_input_uri = BUCKET + \"/\" + \"data/digits_test.jsonl\"\n",
    "with open(\"digits_test.jsonl\", \"w\") as f:\n",
    "    for enum, i in enumerate(digits.data):\n",
    "        i = list(i)\n",
    "        if enum == digits.data.shape[0] - 1: \n",
    "            f.write(json.dumps(i))\n",
    "        else:\n",
    "            f.write(json.dumps(i) + \"\\n\")\n",
    "\n",
    "# upload\n",
    "data_directory = BUCKET + \"/data\"\n",
    "storage_path = os.path.join(data_directory, 'digits_test.jsonl')\n",
    "blob = storage.blob.Blob.from_string(storage_path, client=storage.Client())\n",
    "blob.upload_from_filename(\"digits_test.jsonl\")"
   ]
  },
  {
   "cell_type": "code",
   "execution_count": 201,
   "id": "0d19d8e5-6561-420f-a0c8-5685a35a99fd",
   "metadata": {},
   "outputs": [
    {
     "name": "stdout",
     "output_type": "stream",
     "text": [
      "Creating BatchPredictionJob\n",
      "BatchPredictionJob created. Resource name: projects/633325234048/locations/us-central1/batchPredictionJobs/6640973815708909568\n",
      "To use this BatchPredictionJob in another session:\n",
      "bpj = aiplatform.BatchPredictionJob('projects/633325234048/locations/us-central1/batchPredictionJobs/6640973815708909568')\n",
      "View Batch Prediction Job:\n",
      "https://console.cloud.google.com/ai/platform/locations/us-central1/batch-predictions/6640973815708909568?project=633325234048\n",
      "BatchPredictionJob projects/633325234048/locations/us-central1/batchPredictionJobs/6640973815708909568 current state:\n",
      "JobState.JOB_STATE_PENDING\n",
      "BatchPredictionJob projects/633325234048/locations/us-central1/batchPredictionJobs/6640973815708909568 current state:\n",
      "JobState.JOB_STATE_PENDING\n",
      "BatchPredictionJob projects/633325234048/locations/us-central1/batchPredictionJobs/6640973815708909568 current state:\n",
      "JobState.JOB_STATE_PENDING\n",
      "BatchPredictionJob projects/633325234048/locations/us-central1/batchPredictionJobs/6640973815708909568 current state:\n",
      "JobState.JOB_STATE_RUNNING\n",
      "BatchPredictionJob projects/633325234048/locations/us-central1/batchPredictionJobs/6640973815708909568 current state:\n",
      "JobState.JOB_STATE_RUNNING\n"
     ]
    }
   ],
   "source": [
    "batch_prediction_job = model.batch_predict(\n",
    "        job_display_name='test batch predict job sklearn',\n",
    "        gcs_source=gcs_input_uri,\n",
    "        gcs_destination_prefix=BUCKET+\"/predictions\",\n",
    "        machine_type='n1-standard-2',\n",
    "        # accelerator_count=accelerator_count,\n",
    "        # accelerator_type=accelerator_type, #if you want gpus\n",
    "        starting_replica_count=1,\n",
    "        max_replica_count=2,\n",
    "        sync=False,\n",
    "    )"
   ]
  },
  {
   "cell_type": "markdown",
   "id": "1682773f-2b6d-469c-9eb4-15aef960cfc1",
   "metadata": {
    "tags": []
   },
   "source": [
    "### Make local predictions with registered model"
   ]
  },
  {
   "cell_type": "markdown",
   "id": "c3d7ca77-6dad-4043-ba28-db7dd204e975",
   "metadata": {},
   "source": [
    "Copy/paste from above `model.resource_name`"
   ]
  },
  {
   "cell_type": "code",
   "execution_count": 186,
   "id": "3ea935c7-89ee-47de-9346-bb22136fba63",
   "metadata": {},
   "outputs": [
    {
     "name": "stdout",
     "output_type": "stream",
     "text": [
      "The saved model's artifact path is: gs://wortz-project-vertex-staging-us-central1/vertex_ai_auto_staging/2022-04-22-16:28:47.148\n"
     ]
    }
   ],
   "source": [
    "#reload a model and get the artifact locally\n",
    "\n",
    "model = aiplatform.Model('projects/633325234048/locations/us-central1/models/3962274868644282368')\n",
    "artifact_uri = model.to_dict()['artifactUri']\n",
    "\n",
    "print(f\"The saved model's artifact path is: {artifact_uri}\")"
   ]
  },
  {
   "cell_type": "code",
   "execution_count": 193,
   "id": "f8b24a0f-9213-4541-9ed8-1b6184a7739f",
   "metadata": {},
   "outputs": [
    {
     "name": "stderr",
     "output_type": "stream",
     "text": [
      "E0422 16:35:59.328831373    9399 fork_posix.cc:70]           Fork support is only compatible with the epoll1 and poll polling strategies\n"
     ]
    },
    {
     "name": "stdout",
     "output_type": "stream",
     "text": [
      "Copying gs://wortz-project-vertex-staging-us-central1/vertex_ai_auto_staging/2022-04-22-16:28:47.148/model.pkl...\n",
      "/ [1 files][  5.4 MiB/  5.4 MiB]                                                \n",
      "Operation completed over 1 objects/5.4 MiB.                                      \n"
     ]
    }
   ],
   "source": [
    "#load the artifact locally \n",
    "!gsutil cp $artifact_uri'/model.pkl' .\n",
    "artifact_file = open('model.pkl', 'rb')\n",
    "\n",
    "local_artifact = pickle.load(artifact_file)"
   ]
  },
  {
   "cell_type": "markdown",
   "id": "5e67de48-0295-4d57-a11c-02f39158a72e",
   "metadata": {},
   "source": [
    "## Make local predictions"
   ]
  },
  {
   "cell_type": "code",
   "execution_count": 195,
   "id": "8ccc874e-4742-425d-8f24-7dbaf0cebbf4",
   "metadata": {},
   "outputs": [
    {
     "data": {
      "text/plain": [
       "array([0, 1, 2, ..., 8, 9, 8])"
      ]
     },
     "execution_count": 195,
     "metadata": {},
     "output_type": "execute_result"
    }
   ],
   "source": [
    "local_artifact.predict(digits.data)"
   ]
  },
  {
   "cell_type": "code",
   "execution_count": 211,
   "id": "2d53e9e0-424e-4723-a8dc-1adc5d098ca8",
   "metadata": {},
   "outputs": [
    {
     "name": "stdout",
     "output_type": "stream",
     "text": [
      "Creating Endpoint\n",
      "Create Endpoint backing LRO: projects/633325234048/locations/us-central1/endpoints/8512621332381302784/operations/6145397605510676480\n"
     ]
    }
   ],
   "source": [
    "endpoint = model.deploy(\n",
    "        deployed_model_display_name=\"deployed digits test\",\n",
    "        traffic_percentage=100,\n",
    "        # traffic_split=traffic_split, #for ab tests\n",
    "        machine_type='n1-standard-2',\n",
    "        min_replica_count=1,\n",
    "        max_replica_count=2,\n",
    "        # accelerator_type=accelerator_type,\n",
    "        # accelerator_count=accelerator_count,\n",
    "        sync=False,\n",
    "    )"
   ]
  },
  {
   "cell_type": "code",
   "execution_count": 224,
   "id": "32cfae9c-502e-4cb9-b178-1637d8ec3f1c",
   "metadata": {},
   "outputs": [
    {
     "name": "stdout",
     "output_type": "stream",
     "text": [
      "Online prediction results: [0.0, 1.0, 2.0, 3.0, 4.0, 5.0, 6.0, 7.0, 8.0, 9.0, 0.0, 1.0, 2.0, 3.0, 4.0, 5.0, 6.0, 7.0, 8.0, 9.0, 0.0, 1.0, 2.0, 3.0, 4.0, 5.0, 6.0, 7.0, 8.0, 9.0, 0.0, 9.0, 5.0, 5.0, 6.0, 5.0, 0.0, 9.0, 8.0, 9.0, 8.0, 4.0, 1.0, 7.0, 7.0, 3.0, 5.0, 1.0, 0.0, 0.0, 2.0, 2.0, 7.0, 8.0, 2.0, 0.0, 1.0, 2.0, 6.0, 3.0, 3.0, 7.0, 3.0, 3.0, 4.0, 6.0, 6.0, 6.0, 4.0, 9.0, 1.0, 5.0, 0.0, 9.0, 5.0, 2.0, 8.0, 2.0, 0.0, 0.0, 1.0, 7.0, 6.0, 3.0, 2.0, 1.0, 7.0, 4.0, 6.0, 3.0, 1.0, 3.0, 9.0, 1.0, 7.0, 6.0, 8.0, 4.0, 3.0, 1.0, 4.0, 0.0, 5.0, 3.0, 6.0, 9.0, 6.0, 1.0, 7.0, 5.0, 4.0, 4.0, 7.0, 2.0, 8.0, 2.0, 2.0, 5.0, 7.0, 9.0, 5.0, 4.0, 8.0, 8.0, 4.0, 9.0, 0.0, 8.0, 9.0, 8.0, 0.0, 1.0, 2.0, 3.0, 4.0, 5.0, 6.0, 7.0, 8.0, 9.0, 0.0, 1.0, 2.0, 3.0, 4.0, 5.0, 6.0, 7.0, 8.0, 9.0, 0.0, 1.0, 2.0, 3.0, 4.0, 5.0, 6.0, 7.0, 8.0, 9.0, 0.0, 9.0, 5.0, 5.0, 6.0, 5.0, 0.0, 9.0, 8.0, 9.0, 8.0, 4.0, 1.0, 7.0, 7.0, 3.0, 5.0, 1.0, 0.0, 0.0, 2.0, 2.0, 7.0, 8.0, 2.0, 0.0, 1.0, 2.0, 6.0, 3.0, 3.0, 7.0, 3.0, 3.0, 4.0, 6.0, 6.0, 6.0, 4.0, 9.0, 1.0, 5.0, 0.0, 9.0, 5.0, 2.0, 8.0, 2.0, 0.0, 0.0, 1.0, 7.0, 6.0, 3.0, 2.0, 1.0, 7.0, 3.0, 1.0, 3.0, 9.0, 1.0, 7.0, 6.0, 8.0, 4.0, 3.0, 1.0, 4.0, 0.0, 5.0, 3.0, 6.0, 9.0, 6.0, 1.0, 7.0, 5.0, 4.0, 4.0, 7.0, 2.0, 8.0, 2.0, 2.0, 5.0, 5.0, 4.0, 8.0, 8.0, 4.0, 9.0, 0.0, 8.0, 9.0, 8.0, 0.0, 1.0, 2.0, 3.0, 4.0, 5.0, 6.0, 7.0, 8.0, 9.0, 0.0, 1.0, 2.0, 3.0, 4.0, 5.0, 6.0, 7.0, 8.0, 9.0, 0.0, 1.0, 2.0, 3.0, 4.0, 5.0, 6.0, 7.0, 8.0, 9.0, 0.0, 9.0, 5.0, 5.0, 6.0, 5.0, 0.0, 9.0, 8.0, 9.0, 8.0, 4.0, 1.0, 7.0, 7.0, 3.0, 5.0, 1.0, 0.0, 0.0, 2.0, 2.0, 7.0, 8.0, 2.0, 0.0, 1.0, 2.0, 6.0, 3.0, 3.0, 7.0, 3.0, 3.0, 4.0, 6.0, 6.0, 6.0, 4.0, 9.0, 1.0, 5.0, 0.0, 9.0, 5.0, 2.0, 8.0, 2.0, 0.0, 0.0, 1.0, 7.0, 6.0, 3.0, 2.0, 1.0, 7.0, 4.0, 6.0, 3.0, 1.0, 3.0, 9.0, 1.0, 7.0, 6.0, 8.0, 4.0, 3.0, 1.0, 4.0, 0.0, 5.0, 3.0, 6.0, 9.0, 6.0, 1.0, 7.0, 5.0, 4.0, 4.0, 7.0, 2.0, 8.0, 2.0, 2.0, 5.0, 7.0, 9.0, 5.0, 4.0, 8.0, 8.0, 4.0, 9.0, 0.0, 8.0, 9.0, 3.0, 0.0, 1.0, 2.0, 3.0, 4.0, 5.0, 6.0, 7.0, 8.0, 9.0, 0.0, 1.0, 2.0, 3.0, 4.0, 5.0, 6.0, 7.0, 8.0, 9.0, 0.0, 1.0, 2.0, 3.0, 4.0, 5.0, 6.0, 7.0, 8.0, 9.0, 0.0, 9.0, 5.0, 5.0, 6.0, 5.0, 0.0, 9.0, 8.0, 9.0, 8.0, 4.0, 1.0, 7.0, 7.0, 3.0, 5.0, 1.0, 0.0, 0.0, 2.0, 2.0, 7.0, 8.0, 2.0, 0.0, 1.0, 2.0, 6.0, 3.0, 3.0, 7.0, 3.0, 3.0, 4.0, 6.0, 6.0, 6.0, 4.0, 9.0, 1.0, 5.0, 0.0, 9.0, 5.0, 2.0, 8.0, 2.0, 0.0, 0.0, 1.0, 7.0, 6.0, 3.0, 2.0, 1.0, 7.0, 4.0, 6.0, 3.0, 1.0, 3.0, 9.0, 1.0, 7.0, 6.0, 8.0, 4.0, 3.0, 1.0, 4.0, 0.0, 5.0, 3.0, 6.0, 9.0, 6.0, 1.0, 7.0, 5.0, 4.0, 4.0, 7.0, 2.0, 8.0, 2.0, 2.0, 5.0, 7.0, 9.0, 5.0, 4.0, 8.0, 8.0, 4.0, 9.0, 0.0, 8.0, 9.0, 8.0, 0.0, 1.0, 2.0, 3.0, 4.0, 5.0, 6.0, 7.0, 8.0, 9.0, 0.0, 1.0, 2.0, 3.0, 4.0, 5.0, 6.0, 7.0, 8.0, 9.0, 0.0, 1.0, 2.0, 3.0, 4.0, 5.0, 6.0, 7.0, 8.0, 9.0, 0.0, 9.0, 5.0, 5.0, 6.0, 5.0, 0.0, 9.0, 8.0, 9.0, 8.0, 4.0, 1.0, 7.0, 7.0, 3.0, 5.0, 1.0, 0.0, 0.0, 2.0, 2.0, 7.0, 8.0, 2.0, 0.0, 1.0, 2.0, 6.0, 3.0, 3.0, 7.0, 3.0, 3.0, 4.0, 6.0, 6.0, 6.0, 4.0, 9.0, 1.0, 5.0, 0.0, 9.0, 5.0, 2.0, 8.0, 2.0, 0.0, 0.0, 1.0, 7.0, 6.0, 3.0, 2.0, 1.0, 7.0, 4.0, 6.0, 3.0, 1.0, 3.0, 9.0, 1.0, 7.0, 6.0, 8.0, 4.0, 3.0, 1.0, 4.0, 0.0, 5.0, 3.0, 6.0, 9.0, 6.0, 1.0, 7.0, 5.0, 4.0, 4.0, 7.0, 2.0, 8.0, 2.0, 2.0, 5.0, 7.0, 9.0, 5.0, 4.0, 8.0, 8.0, 4.0, 9.0, 0.0, 8.0, 9.0, 8.0, 0.0, 1.0, 2.0, 3.0, 4.0, 5.0, 6.0, 7.0, 8.0, 9.0, 0.0, 1.0, 2.0, 3.0, 4.0, 5.0, 6.0, 7.0, 8.0, 9.0, 0.0, 1.0, 2.0, 3.0, 4.0, 5.0, 6.0, 7.0, 8.0, 9.0, 0.0, 9.0, 5.0, 5.0, 6.0, 5.0, 0.0, 9.0, 8.0, 9.0, 8.0, 4.0, 1.0, 7.0, 7.0, 3.0, 5.0, 1.0, 0.0, 0.0, 2.0, 2.0, 7.0, 8.0, 2.0, 0.0, 1.0, 2.0, 6.0, 3.0, 3.0, 7.0, 3.0, 3.0, 4.0, 6.0, 6.0, 6.0, 4.0, 9.0, 1.0, 5.0, 0.0, 9.0, 5.0, 2.0, 8.0, 2.0, 0.0, 0.0, 1.0, 7.0, 6.0, 3.0, 2.0, 1.0, 7.0, 4.0, 6.0, 3.0, 1.0, 3.0, 9.0, 1.0, 7.0, 6.0, 8.0, 4.0, 3.0, 1.0, 4.0, 0.0, 5.0, 3.0, 6.0, 9.0, 6.0, 1.0, 7.0, 5.0, 4.0, 4.0, 7.0, 2.0, 8.0, 2.0, 2.0, 5.0, 7.0, 9.0, 5.0, 4.0, 8.0, 8.0, 4.0, 9.0, 0.0, 8.0, 9.0, 8.0, 0.0, 1.0, 2.0, 3.0, 4.0, 5.0, 6.0, 7.0, 8.0, 9.0, 0.0, 1.0, 2.0, 3.0, 4.0, 5.0, 6.0, 7.0, 8.0, 9.0, 0.0, 1.0, 2.0, 3.0, 4.0, 5.0, 6.0, 7.0, 8.0, 9.0, 0.0, 9.0, 5.0, 5.0, 6.0, 5.0, 0.0, 9.0, 8.0, 9.0, 8.0, 4.0, 1.0, 7.0, 7.0, 3.0, 5.0, 1.0, 0.0, 0.0, 2.0, 2.0, 7.0, 8.0, 2.0, 0.0, 1.0, 2.0, 6.0, 3.0, 3.0, 7.0, 3.0, 3.0, 4.0, 6.0, 6.0, 6.0, 4.0, 9.0, 1.0, 5.0, 0.0, 9.0, 5.0, 2.0, 8.0, 2.0, 0.0, 0.0, 1.0, 7.0, 6.0, 3.0, 2.0, 1.0, 7.0, 4.0, 6.0, 3.0, 1.0, 3.0, 9.0, 1.0, 7.0, 6.0, 8.0, 4.0, 3.0, 1.0, 4.0, 0.0, 5.0, 3.0, 6.0, 9.0, 6.0, 1.0, 7.0, 5.0, 4.0, 4.0, 7.0, 2.0, 8.0, 2.0, 2.0, 5.0, 7.0, 9.0, 5.0, 4.0, 8.0, 8.0, 4.0, 9.0, 0.0, 8.0, 9.0, 8.0, 1.0, 2.0, 3.0, 4.0, 5.0, 6.0, 7.0, 8.0, 9.0, 0.0, 1.0, 2.0, 3.0, 4.0, 5.0, 6.0, 7.0, 8.0, 9.0, 0.0, 1.0, 2.0, 3.0, 4.0, 5.0, 6.0, 7.0, 8.0, 9.0, 0.0, 9.0, 5.0, 5.0, 6.0, 5.0, 0.0, 9.0, 8.0, 9.0, 8.0, 4.0, 1.0, 7.0, 7.0, 3.0, 5.0, 1.0, 2.0, 7.0, 8.0, 2.0, 0.0, 1.0, 2.0, 6.0, 3.0, 3.0, 7.0, 3.0, 3.0, 4.0, 6.0, 6.0, 6.0, 4.0, 9.0, 1.0, 5.0, 0.0, 9.0, 5.0, 2.0, 8.0, 2.0, 0.0, 0.0, 1.0, 7.0, 6.0, 3.0, 2.0, 1.0, 4.0, 6.0, 3.0, 1.0, 3.0, 9.0, 1.0, 7.0, 6.0, 8.0, 4.0, 3.0, 1.0, 4.0, 0.0, 5.0, 3.0, 6.0, 9.0, 6.0, 1.0, 7.0, 5.0, 4.0, 4.0, 7.0, 2.0, 8.0, 2.0, 2.0, 5.0, 7.0, 9.0, 5.0, 4.0, 4.0, 9.0, 0.0, 8.0, 9.0, 8.0, 0.0, 1.0, 2.0, 3.0, 4.0, 5.0, 6.0, 7.0, 8.0, 9.0, 0.0, 1.0, 2.0, 3.0, 4.0, 5.0, 6.0, 7.0, 8.0, 9.0, 0.0, 1.0, 2.0, 3.0, 4.0, 5.0, 6.0, 7.0, 8.0, 9.0, 0.0, 9.0, 5.0, 5.0, 6.0, 5.0, 0.0, 9.0, 8.0, 9.0, 8.0, 4.0, 1.0, 7.0, 7.0, 3.0, 5.0, 1.0, 0.0, 0.0, 7.0, 8.0, 2.0, 0.0, 1.0, 2.0, 6.0, 3.0, 3.0, 7.0, 3.0, 3.0, 4.0, 6.0, 6.0, 6.0, 4.0, 9.0, 1.0, 5.0, 0.0, 9.0, 5.0, 2.0, 8.0, 2.0, 0.0, 0.0, 1.0, 7.0, 6.0, 3.0, 2.0, 1.0, 7.0, 4.0, 6.0, 3.0, 1.0, 3.0, 9.0, 1.0, 7.0, 6.0, 8.0, 4.0, 3.0, 1.0, 4.0, 0.0, 5.0, 3.0, 6.0, 9.0, 6.0, 1.0, 7.0, 5.0, 4.0, 4.0, 7.0, 2.0, 8.0, 2.0, 2.0, 5.0, 7.0, 9.0, 5.0, 4.0, 8.0, 8.0, 4.0, 9.0, 0.0, 8.0, 9.0, 8.0, 0.0, 1.0, 2.0, 3.0, 4.0, 5.0, 6.0, 7.0, 8.0, 9.0, 0.0, 1.0, 2.0, 3.0, 4.0, 5.0, 6.0, 7.0, 8.0, 9.0, 0.0, 1.0, 2.0, 3.0, 4.0, 5.0, 6.0, 7.0, 8.0, 9.0, 0.0, 9.0, 5.0, 5.0, 6.0, 5.0, 0.0, 9.0, 8.0, 9.0, 8.0, 4.0, 1.0, 7.0, 7.0, 3.0, 5.0, 1.0, 0.0, 0.0, 2.0, 2.0, 7.0, 8.0, 2.0, 0.0, 1.0, 2.0, 6.0, 3.0, 3.0, 7.0, 3.0, 3.0, 4.0, 6.0, 6.0, 6.0, 4.0, 9.0, 1.0, 5.0, 0.0, 9.0, 5.0, 2.0, 8.0, 2.0, 0.0, 0.0, 1.0, 7.0, 6.0, 3.0, 2.0, 1.0, 7.0, 4.0, 6.0, 3.0, 1.0, 3.0, 9.0, 1.0, 7.0, 6.0, 8.0, 4.0, 3.0, 1.0, 4.0, 0.0, 5.0, 3.0, 6.0, 9.0, 6.0, 1.0, 7.0, 5.0, 4.0, 4.0, 7.0, 2.0, 8.0, 2.0, 2.0, 5.0, 7.0, 9.0, 5.0, 4.0, 8.0, 8.0, 4.0, 9.0, 0.0, 8.0, 9.0, 8.0, 0.0, 1.0, 2.0, 3.0, 4.0, 5.0, 6.0, 7.0, 8.0, 9.0, 0.0, 1.0, 2.0, 3.0, 4.0, 5.0, 6.0, 7.0, 8.0, 9.0, 0.0, 1.0, 2.0, 3.0, 4.0, 5.0, 6.0, 7.0, 8.0, 9.0, 0.0, 9.0, 5.0, 5.0, 6.0, 5.0, 0.0, 9.0, 8.0, 9.0, 8.0, 4.0, 1.0, 7.0, 7.0, 3.0, 5.0, 1.0, 0.0, 0.0, 2.0, 2.0, 7.0, 8.0, 2.0, 0.0, 1.0, 2.0, 6.0, 3.0, 3.0, 7.0, 3.0, 3.0, 4.0, 6.0, 6.0, 6.0, 4.0, 9.0, 1.0, 5.0, 0.0, 9.0, 5.0, 2.0, 8.0, 2.0, 0.0, 0.0, 1.0, 7.0, 6.0, 3.0, 2.0, 1.0, 7.0, 4.0, 6.0, 3.0, 1.0, 3.0, 9.0, 1.0, 7.0, 6.0, 8.0, 4.0, 3.0, 1.0, 4.0, 0.0, 5.0, 3.0, 6.0, 9.0, 6.0, 1.0, 7.0, 5.0, 4.0, 4.0, 7.0, 2.0, 8.0, 2.0, 2.0, 5.0, 7.0, 9.0, 5.0, 4.0, 8.0, 8.0, 4.0, 9.0, 0.0, 8.0, 0.0, 1.0, 2.0, 3.0, 4.0, 5.0, 6.0, 7.0, 8.0, 9.0, 0.0, 1.0, 2.0, 3.0, 4.0, 5.0, 6.0, 7.0, 8.0, 9.0, 0.0, 1.0, 2.0, 3.0, 4.0, 5.0, 6.0, 7.0, 8.0, 9.0, 0.0, 9.0, 5.0, 5.0, 6.0, 5.0, 0.0, 9.0, 8.0, 9.0, 8.0, 4.0, 1.0, 7.0, 7.0, 3.0, 5.0, 1.0, 0.0, 0.0, 2.0, 2.0, 7.0, 8.0, 2.0, 0.0, 1.0, 2.0, 6.0, 3.0, 3.0, 7.0, 3.0, 3.0, 4.0, 6.0, 6.0, 6.0, 4.0, 9.0, 1.0, 5.0, 0.0, 9.0, 5.0, 2.0, 8.0, 2.0, 0.0, 0.0, 1.0, 7.0, 6.0, 3.0, 2.0, 1.0, 7.0, 4.0, 6.0, 3.0, 1.0, 3.0, 9.0, 1.0, 7.0, 6.0, 8.0, 4.0, 3.0, 1.0, 4.0, 0.0, 5.0, 3.0, 6.0, 9.0, 6.0, 1.0, 7.0, 5.0, 4.0, 4.0, 7.0, 2.0, 8.0, 2.0, 2.0, 5.0, 7.0, 9.0, 5.0, 4.0, 8.0, 8.0, 4.0, 9.0, 0.0, 8.0, 9.0, 8.0, 0.0, 1.0, 2.0, 3.0, 4.0, 5.0, 6.0, 7.0, 8.0, 9.0, 0.0, 1.0, 2.0, 3.0, 4.0, 5.0, 6.0, 9.0, 0.0, 1.0, 2.0, 3.0, 4.0, 5.0, 6.0, 7.0, 8.0, 9.0, 0.0, 9.0, 5.0, 5.0, 6.0, 5.0, 0.0, 9.0, 8.0, 9.0, 8.0, 4.0, 1.0, 7.0, 7.0, 3.0, 5.0, 1.0, 0.0, 0.0, 2.0, 2.0, 7.0, 8.0, 2.0, 0.0, 1.0, 2.0, 6.0, 3.0, 3.0, 7.0, 3.0, 3.0, 4.0, 6.0, 6.0, 6.0, 4.0, 9.0, 1.0, 5.0, 0.0, 9.0, 5.0, 2.0, 8.0, 0.0, 1.0, 7.0, 6.0, 3.0, 2.0, 1.0, 7.0, 4.0, 6.0, 3.0, 1.0, 3.0, 9.0, 1.0, 7.0, 6.0, 8.0, 4.0, 3.0, 1.0, 4.0, 0.0, 5.0, 3.0, 6.0, 9.0, 6.0, 1.0, 7.0, 5.0, 4.0, 4.0, 7.0, 2.0, 2.0, 5.0, 7.0, 9.0, 5.0, 4.0, 4.0, 9.0, 0.0, 8.0, 9.0, 8.0, 0.0, 1.0, 2.0, 3.0, 4.0, 5.0, 6.0, 7.0, 8.0, 9.0, 0.0, 1.0, 2.0, 3.0, 4.0, 5.0, 6.0, 7.0, 8.0, 9.0, 0.0, 1.0, 2.0, 3.0, 4.0, 5.0, 6.0, 7.0, 8.0, 9.0, 0.0, 9.0, 5.0, 5.0, 6.0, 5.0, 0.0, 9.0, 8.0, 9.0, 8.0, 4.0, 1.0, 7.0, 7.0, 3.0, 5.0, 1.0, 0.0, 0.0, 2.0, 2.0, 7.0, 8.0, 2.0, 0.0, 1.0, 2.0, 6.0, 3.0, 3.0, 7.0, 3.0, 3.0, 4.0, 6.0, 6.0, 6.0, 4.0, 9.0, 1.0, 5.0, 0.0, 9.0, 5.0, 2.0, 8.0, 2.0, 0.0, 0.0, 1.0, 7.0, 6.0, 3.0, 2.0, 1.0, 7.0, 4.0, 6.0, 3.0, 1.0, 3.0, 9.0, 1.0, 7.0, 6.0, 8.0, 4.0, 3.0, 1.0, 4.0, 0.0, 5.0, 3.0, 6.0, 9.0, 6.0, 1.0, 7.0, 5.0, 4.0, 4.0, 7.0, 2.0, 8.0, 2.0, 2.0, 5.0, 7.0, 9.0, 5.0, 4.0, 8.0, 8.0, 4.0, 9.0, 0.0, 8.0, 9.0, 8.0]\n",
      "BatchPredictionJob projects/633325234048/locations/us-central1/batchPredictionJobs/6640973815708909568 current state:\n",
      "JobState.JOB_STATE_SUCCEEDED\n",
      "BatchPredictionJob run completed. Resource name: projects/633325234048/locations/us-central1/batchPredictionJobs/6640973815708909568\n"
     ]
    }
   ],
   "source": [
    "# taken from above\n",
    "\n",
    "preds = endpoint.predict(digits.data.tolist()) #tolist is needed - arrays are not taken\n",
    "print(f\"Online prediction results: {preds[:1][0]}\")"
   ]
  },
  {
   "cell_type": "code",
   "execution_count": null,
   "id": "d81b910e-3456-4753-873c-5f120f449e11",
   "metadata": {},
   "outputs": [],
   "source": []
  }
 ],
 "metadata": {
  "environment": {
   "kernel": "python3",
   "name": "tf2-gpu.2-8.m91",
   "type": "gcloud",
   "uri": "gcr.io/deeplearning-platform-release/tf2-gpu.2-8:m91"
  },
  "kernelspec": {
   "display_name": "Python 3",
   "language": "python",
   "name": "python3"
  },
  "language_info": {
   "codemirror_mode": {
    "name": "ipython",
    "version": 3
   },
   "file_extension": ".py",
   "mimetype": "text/x-python",
   "name": "python",
   "nbconvert_exporter": "python",
   "pygments_lexer": "ipython3",
   "version": "3.7.12"
  }
 },
 "nbformat": 4,
 "nbformat_minor": 5
}
